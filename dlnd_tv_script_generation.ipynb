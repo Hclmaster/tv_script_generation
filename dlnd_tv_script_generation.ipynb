{
 "cells": [
  {
   "cell_type": "markdown",
   "metadata": {
    "deletable": true,
    "editable": true
   },
   "source": [
    "# TV Script Generation\n",
    "In this project, you'll generate your own [Simpsons](https://en.wikipedia.org/wiki/The_Simpsons) TV scripts using RNNs.  You'll be using part of the [Simpsons dataset](https://www.kaggle.com/wcukierski/the-simpsons-by-the-data) of scripts from 27 seasons.  The Neural Network you'll build will generate a new TV script for a scene at [Moe's Tavern](https://simpsonswiki.com/wiki/Moe's_Tavern).\n",
    "## Get the Data\n",
    "The data is already provided for you.  You'll be using a subset of the original dataset.  It consists of only the scenes in Moe's Tavern.  This doesn't include other versions of the tavern, like \"Moe's Cavern\", \"Flaming Moe's\", \"Uncle Moe's Family Feed-Bag\", etc.."
   ]
  },
  {
   "cell_type": "code",
   "execution_count": 1,
   "metadata": {
    "collapsed": false,
    "deletable": true,
    "editable": true
   },
   "outputs": [],
   "source": [
    "\"\"\"\n",
    "DON'T MODIFY ANYTHING IN THIS CELL\n",
    "\"\"\"\n",
    "import helper\n",
    "\n",
    "data_dir = './data/simpsons/moes_tavern_lines.txt'\n",
    "text = helper.load_data(data_dir)\n",
    "# Ignore notice, since we don't use it for analysing the data\n",
    "text = text[81:]"
   ]
  },
  {
   "cell_type": "markdown",
   "metadata": {
    "deletable": true,
    "editable": true
   },
   "source": [
    "## Explore the Data\n",
    "Play around with `view_sentence_range` to view different parts of the data."
   ]
  },
  {
   "cell_type": "code",
   "execution_count": 2,
   "metadata": {
    "collapsed": false,
    "deletable": true,
    "editable": true
   },
   "outputs": [
    {
     "name": "stdout",
     "output_type": "stream",
     "text": [
      "Dataset Stats\n",
      "Roughly the number of unique words: 11492\n",
      "Number of scenes: 262\n",
      "Average number of sentences in each scene: 15.248091603053435\n",
      "Number of lines: 4257\n",
      "Average number of words in each line: 11.50434578341555\n",
      "\n",
      "The sentences 0 to 10:\n",
      "Moe_Szyslak: (INTO PHONE) Moe's Tavern. Where the elite meet to drink.\n",
      "Bart_Simpson: Eh, yeah, hello, is Mike there? Last name, Rotch.\n",
      "Moe_Szyslak: (INTO PHONE) Hold on, I'll check. (TO BARFLIES) Mike Rotch. Mike Rotch. Hey, has anybody seen Mike Rotch, lately?\n",
      "Moe_Szyslak: (INTO PHONE) Listen you little puke. One of these days I'm gonna catch you, and I'm gonna carve my name on your back with an ice pick.\n",
      "Moe_Szyslak: What's the matter Homer? You're not your normal effervescent self.\n",
      "Homer_Simpson: I got my problems, Moe. Give me another one.\n",
      "Moe_Szyslak: Homer, hey, you should not drink to forget your problems.\n",
      "Barney_Gumble: Yeah, you should only drink to enhance your social skills.\n",
      "\n",
      "\n"
     ]
    }
   ],
   "source": [
    "view_sentence_range = (0, 10)\n",
    "\n",
    "\"\"\"\n",
    "DON'T MODIFY ANYTHING IN THIS CELL\n",
    "\"\"\"\n",
    "import numpy as np\n",
    "\n",
    "print('Dataset Stats')\n",
    "print('Roughly the number of unique words: {}'.format(len({word: None for word in text.split()})))\n",
    "scenes = text.split('\\n\\n')\n",
    "print('Number of scenes: {}'.format(len(scenes)))\n",
    "sentence_count_scene = [scene.count('\\n') for scene in scenes]\n",
    "print('Average number of sentences in each scene: {}'.format(np.average(sentence_count_scene)))\n",
    "\n",
    "sentences = [sentence for scene in scenes for sentence in scene.split('\\n')]\n",
    "print('Number of lines: {}'.format(len(sentences)))\n",
    "word_count_sentence = [len(sentence.split()) for sentence in sentences]\n",
    "print('Average number of words in each line: {}'.format(np.average(word_count_sentence)))\n",
    "\n",
    "print()\n",
    "print('The sentences {} to {}:'.format(*view_sentence_range))\n",
    "print('\\n'.join(text.split('\\n')[view_sentence_range[0]:view_sentence_range[1]]))"
   ]
  },
  {
   "cell_type": "markdown",
   "metadata": {
    "deletable": true,
    "editable": true
   },
   "source": [
    "## Implement Preprocessing Functions\n",
    "The first thing to do to any dataset is preprocessing.  Implement the following preprocessing functions below:\n",
    "- Lookup Table\n",
    "- Tokenize Punctuation\n",
    "\n",
    "### Lookup Table\n",
    "To create a word embedding, you first need to transform the words to ids.  In this function, create two dictionaries:\n",
    "- Dictionary to go from the words to an id, we'll call `vocab_to_int`\n",
    "- Dictionary to go from the id to word, we'll call `int_to_vocab`\n",
    "\n",
    "Return these dictionaries in the following tuple `(vocab_to_int, int_to_vocab)`"
   ]
  },
  {
   "cell_type": "code",
   "execution_count": 3,
   "metadata": {
    "collapsed": false,
    "deletable": true,
    "editable": true
   },
   "outputs": [
    {
     "name": "stdout",
     "output_type": "stream",
     "text": [
      "Tests Passed\n"
     ]
    }
   ],
   "source": [
    "import numpy as np\n",
    "import problem_unittests as tests\n",
    "\n",
    "def create_lookup_tables(text):\n",
    "    \"\"\"\n",
    "    Create lookup tables for vocabulary\n",
    "    :param text: The text of tv scripts split into words\n",
    "    :return: A tuple of dicts (vocab_to_int, int_to_vocab)\n",
    "    \"\"\"\n",
    "    # TODO: Implement Function\n",
    "    # print(text)\n",
    "    vocab_to_int = {}\n",
    "    int_to_vocab = {}\n",
    "    for idx,each in enumerate(set(text)):\n",
    "        vocab_to_int[each] = idx\n",
    "        int_to_vocab[idx] = each\n",
    "    return vocab_to_int, int_to_vocab\n",
    "\n",
    "\n",
    "\"\"\"\n",
    "DON'T MODIFY ANYTHING IN THIS CELL THAT IS BELOW THIS LINE\n",
    "\"\"\"\n",
    "tests.test_create_lookup_tables(create_lookup_tables)"
   ]
  },
  {
   "cell_type": "markdown",
   "metadata": {
    "deletable": true,
    "editable": true
   },
   "source": [
    "### Tokenize Punctuation\n",
    "We'll be splitting the script into a word array using spaces as delimiters.  However, punctuations like periods and exclamation marks make it hard for the neural network to distinguish between the word \"bye\" and \"bye!\".\n",
    "\n",
    "Implement the function `token_lookup` to return a dict that will be used to tokenize symbols like \"!\" into \"||Exclamation_Mark||\".  Create a dictionary for the following symbols where the symbol is the key and value is the token:\n",
    "- Period ( . )\n",
    "- Comma ( , )\n",
    "- Quotation Mark ( \" )\n",
    "- Semicolon ( ; )\n",
    "- Exclamation mark ( ! )\n",
    "- Question mark ( ? )\n",
    "- Left Parentheses ( ( )\n",
    "- Right Parentheses ( ) )\n",
    "- Dash ( -- )\n",
    "- Return ( \\n )\n",
    "\n",
    "This dictionary will be used to token the symbols and add the delimiter (space) around it.  This separates the symbols as it's own word, making it easier for the neural network to predict on the next word. Make sure you don't use a token that could be confused as a word. Instead of using the token \"dash\", try using something like \"||dash||\"."
   ]
  },
  {
   "cell_type": "code",
   "execution_count": 4,
   "metadata": {
    "collapsed": false,
    "deletable": true,
    "editable": true
   },
   "outputs": [
    {
     "name": "stdout",
     "output_type": "stream",
     "text": [
      "Tests Passed\n"
     ]
    }
   ],
   "source": [
    "def token_lookup():\n",
    "    \"\"\"\n",
    "    Generate a dict to turn punctuation into a token.\n",
    "    :return: Tokenize dictionary where the key is the punctuation and the value is the token\n",
    "    \"\"\"\n",
    "    # TODO: Implement Function\n",
    "    token_dict = {}\n",
    "    token_dict['.'] = '||Period||'\n",
    "    token_dict[','] = '||Comma||'\n",
    "    token_dict['\"'] = '||QuotationMark||'\n",
    "    token_dict[';'] = '||Semicolon||'\n",
    "    token_dict['!'] = '||Exclamationmark||'\n",
    "    token_dict['?'] = '||Questionmark||'\n",
    "    token_dict['('] = '||LeftParentheses||'\n",
    "    token_dict[')'] = '||RightParentheses||'\n",
    "    token_dict['--'] = '||Dash||'\n",
    "    token_dict['\\n'] = '||Return||'\n",
    "    return token_dict\n",
    "\n",
    "\"\"\"\n",
    "DON'T MODIFY ANYTHING IN THIS CELL THAT IS BELOW THIS LINE\n",
    "\"\"\"\n",
    "tests.test_tokenize(token_lookup)"
   ]
  },
  {
   "cell_type": "markdown",
   "metadata": {
    "deletable": true,
    "editable": true
   },
   "source": [
    "## Preprocess all the data and save it\n",
    "Running the code cell below will preprocess all the data and save it to file."
   ]
  },
  {
   "cell_type": "code",
   "execution_count": 5,
   "metadata": {
    "collapsed": false,
    "deletable": true,
    "editable": true
   },
   "outputs": [],
   "source": [
    "\"\"\"\n",
    "DON'T MODIFY ANYTHING IN THIS CELL\n",
    "\"\"\"\n",
    "# Preprocess Training, Validation, and Testing Data\n",
    "helper.preprocess_and_save_data(data_dir, token_lookup, create_lookup_tables)"
   ]
  },
  {
   "cell_type": "markdown",
   "metadata": {
    "deletable": true,
    "editable": true
   },
   "source": [
    "# Check Point\n",
    "This is your first checkpoint. If you ever decide to come back to this notebook or have to restart the notebook, you can start from here. The preprocessed data has been saved to disk."
   ]
  },
  {
   "cell_type": "code",
   "execution_count": 6,
   "metadata": {
    "collapsed": false,
    "deletable": true,
    "editable": true
   },
   "outputs": [],
   "source": [
    "\"\"\"\n",
    "DON'T MODIFY ANYTHING IN THIS CELL\n",
    "\"\"\"\n",
    "import helper\n",
    "import numpy as np\n",
    "import problem_unittests as tests\n",
    "\n",
    "int_text, vocab_to_int, int_to_vocab, token_dict = helper.load_preprocess()"
   ]
  },
  {
   "cell_type": "markdown",
   "metadata": {
    "deletable": true,
    "editable": true
   },
   "source": [
    "## Build the Neural Network\n",
    "You'll build the components necessary to build a RNN by implementing the following functions below:\n",
    "- get_inputs\n",
    "- get_init_cell\n",
    "- get_embed\n",
    "- build_rnn\n",
    "- build_nn\n",
    "- get_batches\n",
    "\n",
    "### Check the Version of TensorFlow and Access to GPU"
   ]
  },
  {
   "cell_type": "code",
   "execution_count": 7,
   "metadata": {
    "collapsed": false,
    "deletable": true,
    "editable": true
   },
   "outputs": [
    {
     "name": "stdout",
     "output_type": "stream",
     "text": [
      "TensorFlow Version: 1.1.0\n",
      "Default GPU Device: /gpu:0\n"
     ]
    }
   ],
   "source": [
    "\"\"\"\n",
    "DON'T MODIFY ANYTHING IN THIS CELL\n",
    "\"\"\"\n",
    "from distutils.version import LooseVersion\n",
    "import warnings\n",
    "import tensorflow as tf\n",
    "\n",
    "# Check TensorFlow Version\n",
    "assert LooseVersion(tf.__version__) >= LooseVersion('1.0'), 'Please use TensorFlow version 1.0 or newer'\n",
    "print('TensorFlow Version: {}'.format(tf.__version__))\n",
    "\n",
    "# Check for a GPU\n",
    "if not tf.test.gpu_device_name():\n",
    "    warnings.warn('No GPU found. Please use a GPU to train your neural network.')\n",
    "else:\n",
    "    print('Default GPU Device: {}'.format(tf.test.gpu_device_name()))"
   ]
  },
  {
   "cell_type": "markdown",
   "metadata": {
    "deletable": true,
    "editable": true
   },
   "source": [
    "### Input\n",
    "Implement the `get_inputs()` function to create TF Placeholders for the Neural Network.  It should create the following placeholders:\n",
    "- Input text placeholder named \"input\" using the [TF Placeholder](https://www.tensorflow.org/api_docs/python/tf/placeholder) `name` parameter.\n",
    "- Targets placeholder\n",
    "- Learning Rate placeholder\n",
    "\n",
    "Return the placeholders in the following tuple `(Input, Targets, LearningRate)`"
   ]
  },
  {
   "cell_type": "code",
   "execution_count": 8,
   "metadata": {
    "collapsed": false,
    "deletable": true,
    "editable": true
   },
   "outputs": [
    {
     "name": "stdout",
     "output_type": "stream",
     "text": [
      "Tests Passed\n"
     ]
    }
   ],
   "source": [
    "def get_inputs():\n",
    "    \"\"\"\n",
    "    Create TF Placeholders for input, targets, and learning rate.\n",
    "    :return: Tuple (input, targets, learning rate)\n",
    "    \"\"\"\n",
    "    # TODO: Implement Function\n",
    "    inputs_ = tf.placeholder(tf.int32, shape=[None, None], name='input')\n",
    "    targets_ = tf.placeholder(tf.int32, shape=[None, None], name='target')\n",
    "    learning_rate = tf.placeholder(tf.float32, name='learning_rate')\n",
    "    return inputs_, targets_, learning_rate\n",
    "\n",
    "\n",
    "\"\"\"\n",
    "DON'T MODIFY ANYTHING IN THIS CELL THAT IS BELOW THIS LINE\n",
    "\"\"\"\n",
    "tests.test_get_inputs(get_inputs)"
   ]
  },
  {
   "cell_type": "markdown",
   "metadata": {
    "deletable": true,
    "editable": true
   },
   "source": [
    "### Build RNN Cell and Initialize\n",
    "Stack one or more [`BasicLSTMCells`](https://www.tensorflow.org/api_docs/python/tf/contrib/rnn/BasicLSTMCell) in a [`MultiRNNCell`](https://www.tensorflow.org/api_docs/python/tf/contrib/rnn/MultiRNNCell).\n",
    "- The Rnn size should be set using `rnn_size`\n",
    "- Initalize Cell State using the MultiRNNCell's [`zero_state()`](https://www.tensorflow.org/api_docs/python/tf/contrib/rnn/MultiRNNCell#zero_state) function\n",
    "    - Apply the name \"initial_state\" to the initial state using [`tf.identity()`](https://www.tensorflow.org/api_docs/python/tf/identity)\n",
    "\n",
    "Return the cell and initial state in the following tuple `(Cell, InitialState)`"
   ]
  },
  {
   "cell_type": "code",
   "execution_count": 9,
   "metadata": {
    "collapsed": false,
    "deletable": true,
    "editable": true
   },
   "outputs": [
    {
     "name": "stdout",
     "output_type": "stream",
     "text": [
      "Tests Passed\n"
     ]
    }
   ],
   "source": [
    "def get_init_cell(batch_size, rnn_size):\n",
    "    \"\"\"\n",
    "    Create an RNN Cell and initialize it.\n",
    "    :param batch_size: Size of batches\n",
    "    :param rnn_size: Size of RNNs\n",
    "    :return: Tuple (cell, initialize state)\n",
    "    \"\"\"\n",
    "    # TODO: Implement Function\n",
    "    def make_cell(lstm_size):\n",
    "        # Basic LSTM Cell\n",
    "        lstm = tf.contrib.rnn.BasicLSTMCell(lstm_size)\n",
    "        return lstm\n",
    "    \n",
    "    # stack up multiple LSTM Cells\n",
    "    #### Just set the lstm_layers to 1 for test!!!!!\n",
    "    lstm_layers = 1\n",
    "    cell = tf.contrib.rnn.MultiRNNCell([make_cell(rnn_size) for _ in range(lstm_layers)])\n",
    "    \n",
    "    initial_state = cell.zero_state(batch_size, tf.float32)\n",
    "    initial_state = tf.identity(initial_state,name='initial_state')\n",
    "    return cell, initial_state\n",
    "\n",
    "\n",
    "\"\"\"\n",
    "DON'T MODIFY ANYTHING IN THIS CELL THAT IS BELOW THIS LINE\n",
    "\"\"\"\n",
    "tests.test_get_init_cell(get_init_cell)"
   ]
  },
  {
   "cell_type": "markdown",
   "metadata": {
    "deletable": true,
    "editable": true
   },
   "source": [
    "### Word Embedding\n",
    "Apply embedding to `input_data` using TensorFlow.  Return the embedded sequence."
   ]
  },
  {
   "cell_type": "code",
   "execution_count": 10,
   "metadata": {
    "collapsed": false,
    "deletable": true,
    "editable": true
   },
   "outputs": [
    {
     "name": "stdout",
     "output_type": "stream",
     "text": [
      "Tests Passed\n"
     ]
    }
   ],
   "source": [
    "def get_embed(input_data, vocab_size, embed_dim):\n",
    "    \"\"\"\n",
    "    Create embedding for <input_data>.\n",
    "    :param input_data: TF placeholder for text input.\n",
    "    :param vocab_size: Number of words in vocabulary.\n",
    "    :param embed_dim: Number of embedding dimensions\n",
    "    :return: Embedded input.\n",
    "    \"\"\"\n",
    "    # TODO: Implement Function\n",
    "    word_embedding = tf.Variable(tf.random_uniform(shape=(vocab_size, embed_dim), minval=-1, maxval=1))\n",
    "    embed = tf.nn.embedding_lookup(params=word_embedding, ids=input_data)\n",
    "    return embed\n",
    "\n",
    "\n",
    "\"\"\"\n",
    "DON'T MODIFY ANYTHING IN THIS CELL THAT IS BELOW THIS LINE\n",
    "\"\"\"\n",
    "tests.test_get_embed(get_embed)"
   ]
  },
  {
   "cell_type": "markdown",
   "metadata": {
    "deletable": true,
    "editable": true
   },
   "source": [
    "### Build RNN\n",
    "You created a RNN Cell in the `get_init_cell()` function.  Time to use the cell to create a RNN.\n",
    "- Build the RNN using the [`tf.nn.dynamic_rnn()`](https://www.tensorflow.org/api_docs/python/tf/nn/dynamic_rnn)\n",
    " - Apply the name \"final_state\" to the final state using [`tf.identity()`](https://www.tensorflow.org/api_docs/python/tf/identity)\n",
    "\n",
    "Return the outputs and final_state state in the following tuple `(Outputs, FinalState)` "
   ]
  },
  {
   "cell_type": "code",
   "execution_count": 11,
   "metadata": {
    "collapsed": false,
    "deletable": true,
    "editable": true
   },
   "outputs": [
    {
     "name": "stdout",
     "output_type": "stream",
     "text": [
      "Tests Passed\n"
     ]
    }
   ],
   "source": [
    "def build_rnn(cell, inputs):\n",
    "    \"\"\"\n",
    "    Create a RNN using a RNN Cell\n",
    "    :param cell: RNN Cell\n",
    "    :param inputs: Input text data\n",
    "    :return: Tuple (Outputs, Final State)\n",
    "    \"\"\"\n",
    "    # TODO: Implement Function\n",
    "    outputs, final_state = tf.nn.dynamic_rnn(cell, inputs, dtype=tf.float32)\n",
    "    final_state = tf.identity(final_state, name='final_state')\n",
    "    return outputs, final_state\n",
    "\n",
    "\n",
    "\"\"\"\n",
    "DON'T MODIFY ANYTHING IN THIS CELL THAT IS BELOW THIS LINE\n",
    "\"\"\"\n",
    "tests.test_build_rnn(build_rnn)"
   ]
  },
  {
   "cell_type": "markdown",
   "metadata": {
    "deletable": true,
    "editable": true
   },
   "source": [
    "### Build the Neural Network\n",
    "Apply the functions you implemented above to:\n",
    "- Apply embedding to `input_data` using your `get_embed(input_data, vocab_size, embed_dim)` function.\n",
    "- Build RNN using `cell` and your `build_rnn(cell, inputs)` function.\n",
    "- Apply a fully connected layer with a linear activation and `vocab_size` as the number of outputs.\n",
    "\n",
    "Return the logits and final state in the following tuple (Logits, FinalState) "
   ]
  },
  {
   "cell_type": "code",
   "execution_count": 12,
   "metadata": {
    "collapsed": false,
    "deletable": true,
    "editable": true
   },
   "outputs": [
    {
     "name": "stdout",
     "output_type": "stream",
     "text": [
      "Tests Passed\n"
     ]
    }
   ],
   "source": [
    "def build_nn(cell, rnn_size, input_data, vocab_size, embed_dim):\n",
    "    \"\"\"\n",
    "    Build part of the neural network\n",
    "    :param cell: RNN cell\n",
    "    :param rnn_size: Size of rnns\n",
    "    :param input_data: Input data\n",
    "    :param vocab_size: Vocabulary size\n",
    "    :param embed_dim: Number of embedding dimensions\n",
    "    :return: Tuple (Logits, FinalState)\n",
    "    \"\"\"\n",
    "    # TODO: Implement Function\n",
    "    embed_inputs = get_embed(input_data, vocab_size, embed_dim)\n",
    "    outputs, final_state = build_rnn(cell, embed_inputs)\n",
    "    logits = tf.contrib.layers.fully_connected(inputs=outputs, num_outputs=vocab_size, activation_fn=None)\n",
    "    return logits, final_state\n",
    "\n",
    "\n",
    "\"\"\"\n",
    "DON'T MODIFY ANYTHING IN THIS CELL THAT IS BELOW THIS LINE\n",
    "\"\"\"\n",
    "tests.test_build_nn(build_nn)"
   ]
  },
  {
   "cell_type": "markdown",
   "metadata": {
    "deletable": true,
    "editable": true
   },
   "source": [
    "### Batches\n",
    "Implement `get_batches` to create batches of input and targets using `int_text`.  The batches should be a Numpy array with the shape `(number of batches, 2, batch size, sequence length)`. Each batch contains two elements:\n",
    "- The first element is a single batch of **input** with the shape `[batch size, sequence length]`\n",
    "- The second element is a single batch of **targets** with the shape `[batch size, sequence length]`\n",
    "\n",
    "If you can't fill the last batch with enough data, drop the last batch.\n",
    "\n",
    "For example, `get_batches([1, 2, 3, 4, 5, 6, 7, 8, 9, 10, 11, 12, 13, 14, 15, 16, 17, 18, 19, 20], 3, 2)` would return a Numpy array of the following:\n",
    "#### Be careful: the targets should move one column next to the Input (targets就是Inputs往后移一格而来的)\n",
    "```\n",
    "[\n",
    "  # First Batch\n",
    "  [\n",
    "    # Batch of Input\n",
    "    [[ 1  2], [ 7  8], [13 14]]\n",
    "    # Batch of targets\n",
    "    [[ 2  3], [ 8  9], [14 15]]\n",
    "  ]\n",
    "\n",
    "  # Second Batch\n",
    "  [\n",
    "    # Batch of Input\n",
    "    [[ 3  4], [ 9 10], [15 16]]\n",
    "    # Batch of targets\n",
    "    [[ 4  5], [10 11], [16 17]]\n",
    "  ]\n",
    "\n",
    "  # Third Batch\n",
    "  [\n",
    "    # Batch of Input\n",
    "    [[ 5  6], [11 12], [17 18]]\n",
    "    # Batch of targets\n",
    "    [[ 6  7], [12 13], [18  1]]\n",
    "  ]\n",
    "]\n",
    "```\n",
    "\n",
    "Notice that the last target value in the last batch is the first input value of the first batch. In this case, `1`. This is a common technique used when creating sequence batches, although it is rather unintuitive."
   ]
  },
  {
   "cell_type": "code",
   "execution_count": 13,
   "metadata": {
    "collapsed": false,
    "deletable": true,
    "editable": true
   },
   "outputs": [
    {
     "name": "stdout",
     "output_type": "stream",
     "text": [
      "int_text length: 5000\n",
      "seq_length: 5\n",
      "batch size: 128\n",
      "number of batches: 7\n",
      "char_per_batch: 640\n",
      "Tests Passed\n"
     ]
    }
   ],
   "source": [
    "def get_batches(int_text, batch_size, seq_length):\n",
    "    \"\"\"\n",
    "    Return batches of input and target\n",
    "    :param int_text: Text with the words replaced by their ids\n",
    "    :param batch_size: The size of batch\n",
    "    :param seq_length: The length of sequence\n",
    "    :return: Batches as a Numpy array\n",
    "    \"\"\"\n",
    "    # TODO: Implement Function\n",
    "    print('int_text length: '+str(len(int_text)))\n",
    "    print('seq_length: '+str(seq_length))\n",
    "    print('batch size: '+str(batch_size))\n",
    "    char_per_batch = batch_size * seq_length\n",
    "    n_batches = len(int_text) // char_per_batch\n",
    "    print('number of batches: '+str(n_batches))\n",
    "    print('char_per_batch: '+str(char_per_batch))\n",
    "    \n",
    "    batch_text = int_text[: n_batches*char_per_batch]\n",
    "    batch_text = np.reshape(batch_text, (batch_size, -1))\n",
    "    \n",
    "    #print('batch_text shape: '+str(batch_text.shape))\n",
    "    total_batch_list = []\n",
    "    \n",
    "    for ii in range(0, batch_text.shape[1], seq_length):\n",
    "        per_batch_list = []\n",
    "        batch_inputs = batch_text[:, ii: ii+seq_length]\n",
    "        \n",
    "        if(ii+seq_length+1 > batch_text.shape[1]):\n",
    "            #word_rest = ii + seq_length + 1 - batch_text.shape[1]\n",
    "            tmp_batches = np.zeros(shape=(batch_text.shape[0],1), dtype=int)\n",
    "            tmp_batches[0:-1] = batch_text[:, 0:1][1:]\n",
    "            batch_targets = np.concatenate((batch_text[:, ii+1: ii+seq_length+1], \n",
    "                                          tmp_batches[:]), axis=1)\n",
    "        else:\n",
    "            batch_targets = batch_text[:, ii+1: ii+seq_length+1]\n",
    "        \n",
    "        per_batch_list.append(batch_inputs.tolist())\n",
    "        per_batch_list.append(batch_targets.tolist())\n",
    "        total_batch_list.append(per_batch_list)\n",
    "    \n",
    "    total_batch_list = np.asarray(total_batch_list)\n",
    "    return total_batch_list\n",
    "    \n",
    "\n",
    "\n",
    "\"\"\"\n",
    "DON'T MODIFY ANYTHING IN THIS CELL THAT IS BELOW THIS LINE\n",
    "\"\"\"\n",
    "tests.test_get_batches(get_batches)"
   ]
  },
  {
   "cell_type": "markdown",
   "metadata": {
    "deletable": true,
    "editable": true
   },
   "source": [
    "## Neural Network Training\n",
    "### Hyperparameters\n",
    "Tune the following parameters:\n",
    "\n",
    "- Set `num_epochs` to the number of epochs.\n",
    "- Set `batch_size` to the batch size.\n",
    "- Set `rnn_size` to the size of the RNNs.\n",
    "- Set `embed_dim` to the size of the embedding.\n",
    "- Set `seq_length` to the length of sequence.\n",
    "- Set `learning_rate` to the learning rate.\n",
    "- Set `show_every_n_batches` to the number of batches the neural network should print progress."
   ]
  },
  {
   "cell_type": "code",
   "execution_count": 14,
   "metadata": {
    "collapsed": true,
    "deletable": true,
    "editable": true
   },
   "outputs": [],
   "source": [
    "# Number of Epochs\n",
    "num_epochs = 200\n",
    "# Batch Size\n",
    "batch_size = 256\n",
    "# RNN Size\n",
    "rnn_size = 256\n",
    "# Embedding Dimension Size\n",
    "embed_dim = 3000\n",
    "# Sequence Length\n",
    "seq_length = 15\n",
    "# Learning Rate\n",
    "learning_rate = 0.001\n",
    "# Show stats for every n number of batches\n",
    "show_every_n_batches = 17\n",
    "\n",
    "\"\"\"\n",
    "DON'T MODIFY ANYTHING IN THIS CELL THAT IS BELOW THIS LINE\n",
    "\"\"\"\n",
    "save_dir = './save'"
   ]
  },
  {
   "cell_type": "markdown",
   "metadata": {
    "deletable": true,
    "editable": true
   },
   "source": [
    "### Build the Graph\n",
    "Build the graph using the neural network you implemented."
   ]
  },
  {
   "cell_type": "code",
   "execution_count": 15,
   "metadata": {
    "collapsed": false,
    "deletable": true,
    "editable": true
   },
   "outputs": [],
   "source": [
    "\"\"\"\n",
    "DON'T MODIFY ANYTHING IN THIS CELL\n",
    "\"\"\"\n",
    "from tensorflow.contrib import seq2seq\n",
    "\n",
    "train_graph = tf.Graph()\n",
    "with train_graph.as_default():\n",
    "    vocab_size = len(int_to_vocab)\n",
    "    input_text, targets, lr = get_inputs()\n",
    "    input_data_shape = tf.shape(input_text)\n",
    "    cell, initial_state = get_init_cell(input_data_shape[0], rnn_size)\n",
    "    logits, final_state = build_nn(cell, rnn_size, input_text, vocab_size, embed_dim)\n",
    "\n",
    "    # Probabilities for generating words\n",
    "    probs = tf.nn.softmax(logits, name='probs')\n",
    "\n",
    "    # Loss function\n",
    "    cost = seq2seq.sequence_loss(\n",
    "        logits,\n",
    "        targets,\n",
    "        tf.ones([input_data_shape[0], input_data_shape[1]]))\n",
    "\n",
    "    # Optimizer\n",
    "    optimizer = tf.train.AdamOptimizer(lr)\n",
    "\n",
    "    # Gradient Clipping\n",
    "    gradients = optimizer.compute_gradients(cost)\n",
    "    capped_gradients = [(tf.clip_by_value(grad, -1., 1.), var) for grad, var in gradients if grad is not None]\n",
    "    train_op = optimizer.apply_gradients(capped_gradients)"
   ]
  },
  {
   "cell_type": "markdown",
   "metadata": {
    "deletable": true,
    "editable": true
   },
   "source": [
    "## Train\n",
    "Train the neural network on the preprocessed data.  If you have a hard time getting a good loss, check the [forums](https://discussions.udacity.com/) to see if anyone is having the same problem."
   ]
  },
  {
   "cell_type": "code",
   "execution_count": 16,
   "metadata": {
    "collapsed": false,
    "deletable": true,
    "editable": true,
    "scrolled": true
   },
   "outputs": [
    {
     "name": "stdout",
     "output_type": "stream",
     "text": [
      "int_text length: 69100\n",
      "seq_length: 15\n",
      "batch size: 256\n",
      "number of batches: 17\n",
      "char_per_batch: 3840\n",
      "Epoch   0 Batch    0/17   train_loss = 8.821\n",
      "Epoch   1 Batch    0/17   train_loss = 6.006\n",
      "Epoch   2 Batch    0/17   train_loss = 5.670\n",
      "Epoch   3 Batch    0/17   train_loss = 5.442\n",
      "Epoch   4 Batch    0/17   train_loss = 5.246\n",
      "Epoch   5 Batch    0/17   train_loss = 5.076\n",
      "Epoch   6 Batch    0/17   train_loss = 4.923\n",
      "Epoch   7 Batch    0/17   train_loss = 4.784\n",
      "Epoch   8 Batch    0/17   train_loss = 4.656\n",
      "Epoch   9 Batch    0/17   train_loss = 4.542\n",
      "Epoch  10 Batch    0/17   train_loss = 4.435\n",
      "Epoch  11 Batch    0/17   train_loss = 4.336\n",
      "Epoch  12 Batch    0/17   train_loss = 4.243\n",
      "Epoch  13 Batch    0/17   train_loss = 4.153\n",
      "Epoch  14 Batch    0/17   train_loss = 4.067\n",
      "Epoch  15 Batch    0/17   train_loss = 3.984\n",
      "Epoch  16 Batch    0/17   train_loss = 3.906\n",
      "Epoch  17 Batch    0/17   train_loss = 3.828\n",
      "Epoch  18 Batch    0/17   train_loss = 3.754\n",
      "Epoch  19 Batch    0/17   train_loss = 3.682\n",
      "Epoch  20 Batch    0/17   train_loss = 3.613\n",
      "Epoch  21 Batch    0/17   train_loss = 3.545\n",
      "Epoch  22 Batch    0/17   train_loss = 3.481\n",
      "Epoch  23 Batch    0/17   train_loss = 3.417\n",
      "Epoch  24 Batch    0/17   train_loss = 3.358\n",
      "Epoch  25 Batch    0/17   train_loss = 3.300\n",
      "Epoch  26 Batch    0/17   train_loss = 3.245\n",
      "Epoch  27 Batch    0/17   train_loss = 3.190\n",
      "Epoch  28 Batch    0/17   train_loss = 3.138\n",
      "Epoch  29 Batch    0/17   train_loss = 3.085\n",
      "Epoch  30 Batch    0/17   train_loss = 3.036\n",
      "Epoch  31 Batch    0/17   train_loss = 2.987\n",
      "Epoch  32 Batch    0/17   train_loss = 2.938\n",
      "Epoch  33 Batch    0/17   train_loss = 2.893\n",
      "Epoch  34 Batch    0/17   train_loss = 2.847\n",
      "Epoch  35 Batch    0/17   train_loss = 2.807\n",
      "Epoch  36 Batch    0/17   train_loss = 2.764\n",
      "Epoch  37 Batch    0/17   train_loss = 2.724\n",
      "Epoch  38 Batch    0/17   train_loss = 2.685\n",
      "Epoch  39 Batch    0/17   train_loss = 2.648\n",
      "Epoch  40 Batch    0/17   train_loss = 2.608\n",
      "Epoch  41 Batch    0/17   train_loss = 2.575\n",
      "Epoch  42 Batch    0/17   train_loss = 2.542\n",
      "Epoch  43 Batch    0/17   train_loss = 2.508\n",
      "Epoch  44 Batch    0/17   train_loss = 2.472\n",
      "Epoch  45 Batch    0/17   train_loss = 2.442\n",
      "Epoch  46 Batch    0/17   train_loss = 2.404\n",
      "Epoch  47 Batch    0/17   train_loss = 2.373\n",
      "Epoch  48 Batch    0/17   train_loss = 2.344\n",
      "Epoch  49 Batch    0/17   train_loss = 2.314\n",
      "Epoch  50 Batch    0/17   train_loss = 2.285\n",
      "Epoch  51 Batch    0/17   train_loss = 2.256\n",
      "Epoch  52 Batch    0/17   train_loss = 2.228\n",
      "Epoch  53 Batch    0/17   train_loss = 2.202\n",
      "Epoch  54 Batch    0/17   train_loss = 2.180\n",
      "Epoch  55 Batch    0/17   train_loss = 2.153\n",
      "Epoch  56 Batch    0/17   train_loss = 2.124\n",
      "Epoch  57 Batch    0/17   train_loss = 2.100\n",
      "Epoch  58 Batch    0/17   train_loss = 2.070\n",
      "Epoch  59 Batch    0/17   train_loss = 2.046\n",
      "Epoch  60 Batch    0/17   train_loss = 2.013\n",
      "Epoch  61 Batch    0/17   train_loss = 1.991\n",
      "Epoch  62 Batch    0/17   train_loss = 1.965\n",
      "Epoch  63 Batch    0/17   train_loss = 1.940\n",
      "Epoch  64 Batch    0/17   train_loss = 1.916\n",
      "Epoch  65 Batch    0/17   train_loss = 1.893\n",
      "Epoch  66 Batch    0/17   train_loss = 1.867\n",
      "Epoch  67 Batch    0/17   train_loss = 1.845\n",
      "Epoch  68 Batch    0/17   train_loss = 1.821\n",
      "Epoch  69 Batch    0/17   train_loss = 1.800\n",
      "Epoch  70 Batch    0/17   train_loss = 1.781\n",
      "Epoch  71 Batch    0/17   train_loss = 1.759\n",
      "Epoch  72 Batch    0/17   train_loss = 1.737\n",
      "Epoch  73 Batch    0/17   train_loss = 1.714\n",
      "Epoch  74 Batch    0/17   train_loss = 1.693\n",
      "Epoch  75 Batch    0/17   train_loss = 1.671\n",
      "Epoch  76 Batch    0/17   train_loss = 1.646\n",
      "Epoch  77 Batch    0/17   train_loss = 1.629\n",
      "Epoch  78 Batch    0/17   train_loss = 1.606\n",
      "Epoch  79 Batch    0/17   train_loss = 1.586\n",
      "Epoch  80 Batch    0/17   train_loss = 1.567\n",
      "Epoch  81 Batch    0/17   train_loss = 1.548\n",
      "Epoch  82 Batch    0/17   train_loss = 1.531\n",
      "Epoch  83 Batch    0/17   train_loss = 1.515\n",
      "Epoch  84 Batch    0/17   train_loss = 1.497\n",
      "Epoch  85 Batch    0/17   train_loss = 1.476\n",
      "Epoch  86 Batch    0/17   train_loss = 1.457\n",
      "Epoch  87 Batch    0/17   train_loss = 1.442\n",
      "Epoch  88 Batch    0/17   train_loss = 1.424\n",
      "Epoch  89 Batch    0/17   train_loss = 1.410\n",
      "Epoch  90 Batch    0/17   train_loss = 1.394\n",
      "Epoch  91 Batch    0/17   train_loss = 1.383\n",
      "Epoch  92 Batch    0/17   train_loss = 1.358\n",
      "Epoch  93 Batch    0/17   train_loss = 1.334\n",
      "Epoch  94 Batch    0/17   train_loss = 1.321\n",
      "Epoch  95 Batch    0/17   train_loss = 1.304\n",
      "Epoch  96 Batch    0/17   train_loss = 1.282\n",
      "Epoch  97 Batch    0/17   train_loss = 1.262\n",
      "Epoch  98 Batch    0/17   train_loss = 1.250\n",
      "Epoch  99 Batch    0/17   train_loss = 1.226\n",
      "Epoch 100 Batch    0/17   train_loss = 1.210\n",
      "Epoch 101 Batch    0/17   train_loss = 1.194\n",
      "Epoch 102 Batch    0/17   train_loss = 1.176\n",
      "Epoch 103 Batch    0/17   train_loss = 1.161\n",
      "Epoch 104 Batch    0/17   train_loss = 1.144\n",
      "Epoch 105 Batch    0/17   train_loss = 1.131\n",
      "Epoch 106 Batch    0/17   train_loss = 1.119\n",
      "Epoch 107 Batch    0/17   train_loss = 1.104\n",
      "Epoch 108 Batch    0/17   train_loss = 1.092\n",
      "Epoch 109 Batch    0/17   train_loss = 1.076\n",
      "Epoch 110 Batch    0/17   train_loss = 1.068\n",
      "Epoch 111 Batch    0/17   train_loss = 1.052\n",
      "Epoch 112 Batch    0/17   train_loss = 1.040\n",
      "Epoch 113 Batch    0/17   train_loss = 1.026\n",
      "Epoch 114 Batch    0/17   train_loss = 1.013\n",
      "Epoch 115 Batch    0/17   train_loss = 1.000\n",
      "Epoch 116 Batch    0/17   train_loss = 0.987\n",
      "Epoch 117 Batch    0/17   train_loss = 0.977\n",
      "Epoch 118 Batch    0/17   train_loss = 0.964\n",
      "Epoch 119 Batch    0/17   train_loss = 0.955\n",
      "Epoch 120 Batch    0/17   train_loss = 0.941\n",
      "Epoch 121 Batch    0/17   train_loss = 0.930\n",
      "Epoch 122 Batch    0/17   train_loss = 0.922\n",
      "Epoch 123 Batch    0/17   train_loss = 0.911\n",
      "Epoch 124 Batch    0/17   train_loss = 0.901\n",
      "Epoch 125 Batch    0/17   train_loss = 0.891\n",
      "Epoch 126 Batch    0/17   train_loss = 0.879\n",
      "Epoch 127 Batch    0/17   train_loss = 0.868\n",
      "Epoch 128 Batch    0/17   train_loss = 0.857\n",
      "Epoch 129 Batch    0/17   train_loss = 0.850\n",
      "Epoch 130 Batch    0/17   train_loss = 0.837\n",
      "Epoch 131 Batch    0/17   train_loss = 0.828\n",
      "Epoch 132 Batch    0/17   train_loss = 0.816\n",
      "Epoch 133 Batch    0/17   train_loss = 0.808\n",
      "Epoch 134 Batch    0/17   train_loss = 0.804\n",
      "Epoch 135 Batch    0/17   train_loss = 0.790\n",
      "Epoch 136 Batch    0/17   train_loss = 0.784\n",
      "Epoch 137 Batch    0/17   train_loss = 0.777\n",
      "Epoch 138 Batch    0/17   train_loss = 0.764\n",
      "Epoch 139 Batch    0/17   train_loss = 0.753\n",
      "Epoch 140 Batch    0/17   train_loss = 0.748\n",
      "Epoch 141 Batch    0/17   train_loss = 0.739\n",
      "Epoch 142 Batch    0/17   train_loss = 0.733\n",
      "Epoch 143 Batch    0/17   train_loss = 0.725\n",
      "Epoch 144 Batch    0/17   train_loss = 0.720\n",
      "Epoch 145 Batch    0/17   train_loss = 0.718\n",
      "Epoch 146 Batch    0/17   train_loss = 0.712\n",
      "Epoch 147 Batch    0/17   train_loss = 0.701\n",
      "Epoch 148 Batch    0/17   train_loss = 0.692\n",
      "Epoch 149 Batch    0/17   train_loss = 0.685\n",
      "Epoch 150 Batch    0/17   train_loss = 0.680\n",
      "Epoch 151 Batch    0/17   train_loss = 0.672\n",
      "Epoch 152 Batch    0/17   train_loss = 0.663\n",
      "Epoch 153 Batch    0/17   train_loss = 0.656\n",
      "Epoch 154 Batch    0/17   train_loss = 0.650\n",
      "Epoch 155 Batch    0/17   train_loss = 0.647\n",
      "Epoch 156 Batch    0/17   train_loss = 0.638\n",
      "Epoch 157 Batch    0/17   train_loss = 0.632\n",
      "Epoch 158 Batch    0/17   train_loss = 0.622\n",
      "Epoch 159 Batch    0/17   train_loss = 0.620\n",
      "Epoch 160 Batch    0/17   train_loss = 0.612\n",
      "Epoch 161 Batch    0/17   train_loss = 0.604\n",
      "Epoch 162 Batch    0/17   train_loss = 0.598\n",
      "Epoch 163 Batch    0/17   train_loss = 0.592\n",
      "Epoch 164 Batch    0/17   train_loss = 0.585\n",
      "Epoch 165 Batch    0/17   train_loss = 0.578\n",
      "Epoch 166 Batch    0/17   train_loss = 0.570\n",
      "Epoch 167 Batch    0/17   train_loss = 0.566\n",
      "Epoch 168 Batch    0/17   train_loss = 0.558\n",
      "Epoch 169 Batch    0/17   train_loss = 0.558\n",
      "Epoch 170 Batch    0/17   train_loss = 0.551\n",
      "Epoch 171 Batch    0/17   train_loss = 0.545\n",
      "Epoch 172 Batch    0/17   train_loss = 0.544\n",
      "Epoch 173 Batch    0/17   train_loss = 0.540\n",
      "Epoch 174 Batch    0/17   train_loss = 0.531\n",
      "Epoch 175 Batch    0/17   train_loss = 0.525\n",
      "Epoch 176 Batch    0/17   train_loss = 0.519\n",
      "Epoch 177 Batch    0/17   train_loss = 0.513\n",
      "Epoch 178 Batch    0/17   train_loss = 0.511\n",
      "Epoch 179 Batch    0/17   train_loss = 0.507\n",
      "Epoch 180 Batch    0/17   train_loss = 0.498\n",
      "Epoch 181 Batch    0/17   train_loss = 0.495\n",
      "Epoch 182 Batch    0/17   train_loss = 0.494\n",
      "Epoch 183 Batch    0/17   train_loss = 0.491\n",
      "Epoch 184 Batch    0/17   train_loss = 0.484\n",
      "Epoch 185 Batch    0/17   train_loss = 0.477\n",
      "Epoch 186 Batch    0/17   train_loss = 0.473\n",
      "Epoch 187 Batch    0/17   train_loss = 0.471\n",
      "Epoch 188 Batch    0/17   train_loss = 0.471\n",
      "Epoch 189 Batch    0/17   train_loss = 0.466\n",
      "Epoch 190 Batch    0/17   train_loss = 0.463\n",
      "Epoch 191 Batch    0/17   train_loss = 0.458\n",
      "Epoch 192 Batch    0/17   train_loss = 0.452\n",
      "Epoch 193 Batch    0/17   train_loss = 0.448\n",
      "Epoch 194 Batch    0/17   train_loss = 0.445\n",
      "Epoch 195 Batch    0/17   train_loss = 0.442\n",
      "Epoch 196 Batch    0/17   train_loss = 0.439\n",
      "Epoch 197 Batch    0/17   train_loss = 0.433\n",
      "Epoch 198 Batch    0/17   train_loss = 0.429\n",
      "Epoch 199 Batch    0/17   train_loss = 0.428\n",
      "Model Trained and Saved\n"
     ]
    }
   ],
   "source": [
    "\"\"\"\n",
    "DON'T MODIFY ANYTHING IN THIS CELL\n",
    "\"\"\"\n",
    "batches = get_batches(int_text, batch_size, seq_length)\n",
    "\n",
    "with tf.Session(graph=train_graph) as sess:\n",
    "    sess.run(tf.global_variables_initializer())\n",
    "\n",
    "    for epoch_i in range(num_epochs):\n",
    "        state = sess.run(initial_state, {input_text: batches[0][0]})\n",
    "\n",
    "        for batch_i, (x, y) in enumerate(batches):\n",
    "            feed = {\n",
    "                input_text: x,\n",
    "                targets: y,\n",
    "                initial_state: state,\n",
    "                lr: learning_rate}\n",
    "            train_loss, state, _ = sess.run([cost, final_state, train_op], feed)\n",
    "\n",
    "            # Show every <show_every_n_batches> batches\n",
    "            if (epoch_i * len(batches) + batch_i) % show_every_n_batches == 0:\n",
    "                print('Epoch {:>3} Batch {:>4}/{}   train_loss = {:.3f}'.format(\n",
    "                    epoch_i,\n",
    "                    batch_i,\n",
    "                    len(batches),\n",
    "                    train_loss))\n",
    "\n",
    "    # Save Model\n",
    "    saver = tf.train.Saver()\n",
    "    saver.save(sess, save_dir)\n",
    "    print('Model Trained and Saved')"
   ]
  },
  {
   "cell_type": "markdown",
   "metadata": {
    "deletable": true,
    "editable": true
   },
   "source": [
    "## Save Parameters\n",
    "Save `seq_length` and `save_dir` for generating a new TV script."
   ]
  },
  {
   "cell_type": "code",
   "execution_count": 17,
   "metadata": {
    "collapsed": false,
    "deletable": true,
    "editable": true
   },
   "outputs": [],
   "source": [
    "\"\"\"\n",
    "DON'T MODIFY ANYTHING IN THIS CELL\n",
    "\"\"\"\n",
    "# Save parameters for checkpoint\n",
    "helper.save_params((seq_length, save_dir))"
   ]
  },
  {
   "cell_type": "markdown",
   "metadata": {
    "deletable": true,
    "editable": true
   },
   "source": [
    "# Checkpoint"
   ]
  },
  {
   "cell_type": "code",
   "execution_count": 1,
   "metadata": {
    "collapsed": false,
    "deletable": true,
    "editable": true
   },
   "outputs": [],
   "source": [
    "\"\"\"\n",
    "DON'T MODIFY ANYTHING IN THIS CELL\n",
    "\"\"\"\n",
    "import tensorflow as tf\n",
    "import numpy as np\n",
    "import helper\n",
    "import problem_unittests as tests\n",
    "\n",
    "_, vocab_to_int, int_to_vocab, token_dict = helper.load_preprocess()\n",
    "seq_length, load_dir = helper.load_params()"
   ]
  },
  {
   "cell_type": "markdown",
   "metadata": {
    "deletable": true,
    "editable": true
   },
   "source": [
    "## Implement Generate Functions\n",
    "### Get Tensors\n",
    "Get tensors from `loaded_graph` using the function [`get_tensor_by_name()`](https://www.tensorflow.org/api_docs/python/tf/Graph#get_tensor_by_name).  Get the tensors using the following names:\n",
    "- \"input:0\"\n",
    "- \"initial_state:0\"\n",
    "- \"final_state:0\"\n",
    "- \"probs:0\"\n",
    "\n",
    "Return the tensors in the following tuple `(InputTensor, InitialStateTensor, FinalStateTensor, ProbsTensor)` "
   ]
  },
  {
   "cell_type": "code",
   "execution_count": 2,
   "metadata": {
    "collapsed": false,
    "deletable": true,
    "editable": true
   },
   "outputs": [
    {
     "name": "stdout",
     "output_type": "stream",
     "text": [
      "Tests Passed\n"
     ]
    }
   ],
   "source": [
    "def get_tensors(loaded_graph):\n",
    "    \"\"\"\n",
    "    Get input, initial state, final state, and probabilities tensor from <loaded_graph>\n",
    "    :param loaded_graph: TensorFlow graph loaded from file\n",
    "    :return: Tuple (InputTensor, InitialStateTensor, FinalStateTensor, ProbsTensor)\n",
    "    \"\"\"\n",
    "    # TODO: Implement Function\n",
    "    InputTensor = loaded_graph.get_tensor_by_name('input:0')\n",
    "    InitialStateTensor = loaded_graph.get_tensor_by_name('initial_state:0')\n",
    "    FinalStateTensor = loaded_graph.get_tensor_by_name('final_state:0')\n",
    "    ProbsTensor = loaded_graph.get_tensor_by_name('probs:0')\n",
    "    return InputTensor, InitialStateTensor, FinalStateTensor, ProbsTensor\n",
    "\n",
    "\n",
    "\"\"\"\n",
    "DON'T MODIFY ANYTHING IN THIS CELL THAT IS BELOW THIS LINE\n",
    "\"\"\"\n",
    "tests.test_get_tensors(get_tensors)"
   ]
  },
  {
   "cell_type": "markdown",
   "metadata": {
    "deletable": true,
    "editable": true
   },
   "source": [
    "### Choose Word\n",
    "Implement the `pick_word()` function to select the next word using `probabilities`."
   ]
  },
  {
   "cell_type": "code",
   "execution_count": 3,
   "metadata": {
    "collapsed": false,
    "deletable": true,
    "editable": true
   },
   "outputs": [
    {
     "name": "stdout",
     "output_type": "stream",
     "text": [
      "Tests Passed\n"
     ]
    }
   ],
   "source": [
    "def pick_word(probabilities, int_to_vocab):\n",
    "    \"\"\"\n",
    "    Pick the next word in the generated text\n",
    "    :param probabilities: Probabilites of the next word\n",
    "    :param int_to_vocab: Dictionary of word ids as the keys and words as the values\n",
    "    :return: String of the predicted word\n",
    "    \"\"\"\n",
    "    # TODO: Implement Function\n",
    "    max_prob = max(probabilities)\n",
    "    max_prob_index = (probabilities.tolist()).index(max_prob)\n",
    "    return int_to_vocab[max_prob_index]\n",
    "\n",
    "\n",
    "\"\"\"\n",
    "DON'T MODIFY ANYTHING IN THIS CELL THAT IS BELOW THIS LINE\n",
    "\"\"\"\n",
    "tests.test_pick_word(pick_word)"
   ]
  },
  {
   "cell_type": "markdown",
   "metadata": {
    "deletable": true,
    "editable": true
   },
   "source": [
    "## Generate TV Script\n",
    "This will generate the TV script for you.  Set `gen_length` to the length of TV script you want to generate."
   ]
  },
  {
   "cell_type": "code",
   "execution_count": 4,
   "metadata": {
    "collapsed": false,
    "deletable": true,
    "editable": true
   },
   "outputs": [
    {
     "name": "stdout",
     "output_type": "stream",
     "text": [
      "INFO:tensorflow:Restoring parameters from ./save\n",
      "moe_szyslak:(into phone) gotcha ya down for forty bucks. good luck your eminence.\n",
      "moe_szyslak: i just wanna try something special.\n",
      "moe_szyslak:(to self) santeria, you're the new homer.\n",
      "homer_simpson:(to moe, proudly) she has a gift.\n",
      "lisa_simpson:(on tape) dear moe, if anything should ever happen.\n",
      "moe_szyslak: hey, hey, hey, hey. no outside suds!\n",
      "homer_simpson:(to moe, proudly) she has a gift.\n",
      "lisa_simpson:(on tape) dear moe, if anything should ever happen.\n",
      "moe_szyslak: hey, hey, hey, hey. no outside suds!\n",
      "homer_simpson:(to moe, proudly) she has a gift.\n",
      "lisa_simpson:(on tape) dear moe, if anything should ever happen.\n",
      "moe_szyslak: hey, hey, hey, hey. no outside suds!\n",
      "homer_simpson:(to moe, proudly) she has a gift.\n",
      "lisa_simpson:(on tape) dear moe, if anything should ever happen.\n",
      "moe_szyslak: hey, hey, hey,\n"
     ]
    }
   ],
   "source": [
    "gen_length = 200\n",
    "# homer_simpson, moe_szyslak, or Barney_Gumble\n",
    "prime_word = 'moe_szyslak'\n",
    "\n",
    "\"\"\"\n",
    "DON'T MODIFY ANYTHING IN THIS CELL THAT IS BELOW THIS LINE\n",
    "\"\"\"\n",
    "loaded_graph = tf.Graph()\n",
    "with tf.Session(graph=loaded_graph) as sess:\n",
    "    # Load saved model\n",
    "    loader = tf.train.import_meta_graph(load_dir + '.meta')\n",
    "    loader.restore(sess, load_dir)\n",
    "\n",
    "    # Get Tensors from loaded model\n",
    "    input_text, initial_state, final_state, probs = get_tensors(loaded_graph)\n",
    "\n",
    "    # Sentences generation setup\n",
    "    gen_sentences = [prime_word + ':']\n",
    "    prev_state = sess.run(initial_state, {input_text: np.array([[1]])})\n",
    "\n",
    "    # Generate sentences\n",
    "    for n in range(gen_length):\n",
    "        # Dynamic Input\n",
    "        dyn_input = [[vocab_to_int[word] for word in gen_sentences[-seq_length:]]]\n",
    "        dyn_seq_length = len(dyn_input[0])\n",
    "\n",
    "        # Get Prediction\n",
    "        probabilities, prev_state = sess.run(\n",
    "            [probs, final_state],\n",
    "            {input_text: dyn_input, initial_state: prev_state})\n",
    "        \n",
    "        pred_word = pick_word(probabilities[dyn_seq_length-1], int_to_vocab)\n",
    "\n",
    "        gen_sentences.append(pred_word)\n",
    "    \n",
    "    # Remove tokens\n",
    "    tv_script = ' '.join(gen_sentences)\n",
    "    for key, token in token_dict.items():\n",
    "        ending = ' ' if key in ['\\n', '(', '\"'] else ''\n",
    "        tv_script = tv_script.replace(' ' + token.lower(), key)\n",
    "    tv_script = tv_script.replace('\\n ', '\\n')\n",
    "    tv_script = tv_script.replace('( ', '(')\n",
    "        \n",
    "    print(tv_script)"
   ]
  },
  {
   "cell_type": "markdown",
   "metadata": {
    "deletable": true,
    "editable": true
   },
   "source": [
    "# The TV Script is Nonsensical\n",
    "It's ok if the TV script doesn't make any sense.  We trained on less than a megabyte of text.  In order to get good results, you'll have to use a smaller vocabulary or get more data.  Luckily there's more data!  As we mentioned in the beggining of this project, this is a subset of [another dataset](https://www.kaggle.com/wcukierski/the-simpsons-by-the-data).  We didn't have you train on all the data, because that would take too long.  However, you are free to train your neural network on all the data.  After you complete the project, of course.\n",
    "# Submitting This Project\n",
    "When submitting this project, make sure to run all the cells before saving the notebook. Save the notebook file as \"dlnd_tv_script_generation.ipynb\" and save it as a HTML file under \"File\" -> \"Download as\". Include the \"helper.py\" and \"problem_unittests.py\" files in your submission."
   ]
  },
  {
   "cell_type": "markdown",
   "metadata": {
    "deletable": true,
    "editable": true
   },
   "source": [
    "# Some Questions\n",
    "- Although I have finished this project, I still have some questions about the RNN Network.\n",
    "1. Is LSTM Cell just a part of the RNN cell?\n",
    "2. What does it mean \"stack up multiple LSTM Cells\"? \n",
    "3. I don't understand clearly about the concept \"embedding\" - is it a process of converting the words to the integer?\n",
    "4. And I'm wondering why the example in the Batches section, \n",
    "   The batches array should look like this:\n",
    "   ```\n",
    "   [ [1, 2, 3, 4, 5, 6]\n",
    "    [7, 8, 9, 10,11,12]\n",
    "    [13,14,15,16,17,18] ]\n",
    "   ```\n",
    "   I thought that the target for the last batch should be [[6,1],[12,7],[18,13]], I don't understand why it should be the one u put it above.\n",
    "5. I found out that the tensorflow official document is sometimes to hard to read :| (e.g I have no idea about the tf.nn.dynamic_rnn after I read the document, can you give me some suggestions about how I can find the better tutorial and how I can improve the efficiency of searching the concepts about the ML / DL?)\n",
    "6. how can we better set the Embedding Dimension Size? And what does this parameter used for?\n",
    "7. The TV script I generated at last seems to become the same, why?\n",
    "\n",
    "- It seems that I have a lot of questions :) Thanks for answering my questions!"
   ]
  }
 ],
 "metadata": {
  "kernelspec": {
   "display_name": "Python 3",
   "language": "python",
   "name": "python3"
  },
  "language_info": {
   "codemirror_mode": {
    "name": "ipython",
    "version": 3
   },
   "file_extension": ".py",
   "mimetype": "text/x-python",
   "name": "python",
   "nbconvert_exporter": "python",
   "pygments_lexer": "ipython3",
   "version": "3.5.4"
  },
  "widgets": {
   "state": {},
   "version": "1.1.2"
  }
 },
 "nbformat": 4,
 "nbformat_minor": 0
}
